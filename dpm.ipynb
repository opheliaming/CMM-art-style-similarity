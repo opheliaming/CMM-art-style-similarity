{
 "cells": [
  {
   "cell_type": "code",
   "execution_count": 1,
   "metadata": {},
   "outputs": [],
   "source": [
    "import torch\n",
    "import torchvision\n",
    "import numpy as np\n",
    "import matplotlib.pyplot as plt\n",
    "import torch.nn as nn\n",
    "import torch.nn.functional as F\n",
    "import torch.optim as optim\n",
    "from torchvision.datasets import CIFAR10, ImageFolder\n",
    "from torchvision import transforms\n",
    "from torchvision.utils import make_grid\n",
    "from torch.utils.data.dataloader import DataLoader\n",
    "from torch.utils.data import random_split\n",
    "from tqdm.notebook import tqdm\n",
    "import json\n",
    "import time\n",
    "import pickle\n",
    "from torchvision.models import alexnet, vgg16, resnet34, resnet50\n",
    "import argparse\n",
    "import os\n",
    "\n",
    "\n",
    "device = 'cuda' if torch.cuda.is_available() else 'cpu'"
   ]
  },
  {
   "cell_type": "code",
   "execution_count": 2,
   "metadata": {},
   "outputs": [],
   "source": [
    "def train(train_dataloader, model, model_params):\n",
    "    model.train()\n",
    "\n",
    "    total_train_loss = 0\n",
    "    total_train_correct = 0\n",
    "    criterion = model_params['criterion']\n",
    "    optimizer = model_params['optimizer']\n",
    "    for (inputs, targets) in tqdm(train_dataloader, leave=False):\n",
    "        # Zero the Gradients\n",
    "        optimizer.zero_grad()\n",
    "        \n",
    "        # Get Predictions\n",
    "        inputs, targets = inputs.to(device), targets.to(device)\n",
    "        outputs = model(inputs)\n",
    "        \n",
    "        # Loss Per Batch\n",
    "        loss = criterion(outputs, targets)\n",
    "        loss.backward()\n",
    "        optimizer.step()\n",
    "        total_train_loss += loss.item()\n",
    "        \n",
    "        # Correct Per Batch\n",
    "        _, predicted = outputs.max(1)\n",
    "        total_train_correct += predicted.eq(targets).sum().item()\n",
    "    \n",
    "    mean_train_loss = total_train_loss / model_params['TRAIN_SIZE']\n",
    "    train_accuracy = total_train_correct / model_params['TRAIN_SIZE']\n",
    "    \n",
    "    return mean_train_loss, train_accuracy\n",
    "            \n",
    "def test(test_dataloader, model, model_params, isVal=False):                 \n",
    "    model.eval()\n",
    "    total_test_loss = 0\n",
    "    total_test_correct = 0\n",
    "    criterion = model_params['criterion']\n",
    "\n",
    "    with torch.no_grad():\n",
    "        for (inputs, targets) in test_dataloader:\n",
    "            \n",
    "            # Get predictions\n",
    "            inputs, targets = inputs.to(device), targets.to(device)\n",
    "            outputs = model(inputs)\n",
    "            \n",
    "            \n",
    "            # Loss Per Batch\n",
    "            loss = criterion(outputs, targets)\n",
    "            total_test_loss += loss.item()\n",
    "            \n",
    "            # Correct Per Batch\n",
    "            _, predicted = outputs.max(1)\n",
    "            total_test_correct += predicted.eq(targets).sum().item()\n",
    "        \n",
    "    if isVal:\n",
    "        mean_test_loss = total_test_loss / model_params['VAL_SIZE']\n",
    "        test_accuracy = total_test_correct / model_params['VAL_SIZE']\n",
    "    else:\n",
    "        mean_test_loss = total_test_loss / model_params['TEST_SIZE']\n",
    "        test_accuracy = total_test_correct / model_params['TEST_SIZE']\n",
    "        \n",
    "    \n",
    "    return mean_test_loss, test_accuracy\n",
    "\n",
    "\n",
    "def run_simulations(train_dataloader, val_dataloader, model, model_params):\n",
    "    train_losses = []\n",
    "    train_accuracies = []\n",
    "    val_losses = []\n",
    "    val_accuracies = []\n",
    "    times = []\n",
    "    \n",
    "    pbar = tqdm(range(model_params['EPOCHS']))\n",
    "    \n",
    "    for i in pbar:\n",
    "        # Train\n",
    "        start = time.time()\n",
    "        mean_train_loss, train_accuracy = train(train_dataloader, model, model_params)\n",
    "        end = time.time()\n",
    "        \n",
    "        # Validation\n",
    "        mean_val_loss, val_accuracy = test(val_dataloader, model, model_params, isVal=True)\n",
    "        \n",
    "        # Get Losses Per Epoch\n",
    "        train_losses.append(mean_train_loss)\n",
    "        val_losses.append(mean_val_loss)\n",
    "        \n",
    "        # Get Accuracies Per Epoch\n",
    "        train_accuracies.append(train_accuracy)\n",
    "        val_accuracies.append(val_accuracy)\n",
    "        \n",
    "        # Get Modeling Times Per Epoch\n",
    "        times.append(end - start)\n",
    "        \n",
    "#         # Scheduler\n",
    "#         scheduler.step()\n",
    "        \n",
    "        pbar.set_postfix({'train_loss': mean_train_loss, 'train_accuracy': train_accuracy,\n",
    "                          'val_loss': mean_val_loss, 'val_accuracy': val_accuracy})\n",
    "        \n",
    "        # Convergence/Early Stopping Criterion\n",
    "        if i > 1:\n",
    "            if np.abs(val_losses[-1] - val_losses[-2]) < 0.000001:\n",
    "                break\n",
    "        \n",
    "        PATH = f'models/{model.__class__.__name__}_Epoch_{i}.pth'\n",
    "        torch.save(model.state_dict(), PATH)\n",
    "        \n",
    "    # Test\n",
    "    # test_loss, test_accuracy = test(test_dataloader, model, model_params)    \n",
    "    \n",
    "    \n",
    "    return train_losses, val_losses\n"
   ]
  },
  {
   "cell_type": "code",
   "execution_count": 3,
   "metadata": {},
   "outputs": [],
   "source": [
    "# arr2 = np.hstack([pairs['im1'].values, pairs['im2'].values])\n",
    "# dir_path = 'wiki_test/'\n",
    "# for i, im in enumerate(arr2[45:]):\n",
    "#     os.rename(dir_path + im, f'wiki_test/{i+45}_{im}')"
   ]
  },
  {
   "cell_type": "code",
   "execution_count": 4,
   "metadata": {},
   "outputs": [
    {
     "name": "stdout",
     "output_type": "stream",
     "text": [
      "Creating dataset\n"
     ]
    }
   ],
   "source": [
    "# Data Normalization/Transformation\n",
    "print('Creating dataset')\n",
    "data_tf = transforms.Compose([\n",
    "    transforms.Resize((64, 64)),\n",
    "    transforms.ToTensor(),\n",
    "    transforms.Normalize([0.485, 0.456, 0.406], [0.229, 0.224, 0.225])\n",
    "])\n",
    "\n",
    "# Obtaining data from directory\n",
    "dataset = ImageFolder('wikiart_4', transform=data_tf)\n",
    "test_style = ImageFolder('style_test_wikiart/', transform=data_tf)\n",
    "test_subj = ImageFolder('subj_test_wikiart/', transform=data_tf)\n",
    "test_pair = ImageFolder('wiki_test/', transform=data_tf)\n"
   ]
  },
  {
   "cell_type": "code",
   "execution_count": 5,
   "metadata": {},
   "outputs": [
    {
     "name": "stdout",
     "output_type": "stream",
     "text": [
      "Separating into train/val with 8000 images from original dataset\n"
     ]
    }
   ],
   "source": [
    "# TRAIN - VAL SPLIT\n",
    "n = 8000\n",
    "print(f'Separating into train/val with {n} images from original dataset')\n",
    "random_ids = np.random.choice(len(dataset), n, replace=False)\n",
    "train_dataset = torch.utils.data.Subset(dataset, random_ids[:n-n//4])\n",
    "val_dataset = torch.utils.data.Subset(dataset, random_ids[n-n//4:])\n",
    "# train_dataset, val_dataset = torch.utils.data.random_split(train_dataset, [n-n//4, n//4])"
   ]
  },
  {
   "cell_type": "code",
   "execution_count": 6,
   "metadata": {},
   "outputs": [],
   "source": [
    "# PARAMETERS\n",
    "model_params = {\n",
    "    'EPOCHS': 20,\n",
    "    'TRAIN_SIZE': len(train_dataset),\n",
    "    'VAL_SIZE': len(val_dataset),\n",
    "    'TEST_SIZE': len(test_style),\n",
    "    'optimizer': None,\n",
    "    'criterion': None\n",
    "}\n",
    "\n",
    "train_dataloader = torch.utils.data.DataLoader(train_dataset, batch_size=64, shuffle=True, num_workers=2)\n",
    "val_dataloader = torch.utils.data.DataLoader(val_dataset, batch_size=64, shuffle=False, num_workers=2)\n",
    "\n",
    "# test sets\n",
    "style_dataloader = torch.utils.data.DataLoader(test_style, batch_size=96, shuffle=False, num_workers=2)\n",
    "subj_dataloader = torch.utils.data.DataLoader(test_subj, batch_size=96, shuffle=False, num_workers=2)\n",
    "#pair_dataloader = torch.utils.data.DataLoader(test_pair, batch_size=96, shuffle=False, num_workers=2)"
   ]
  },
  {
   "cell_type": "code",
   "execution_count": 7,
   "metadata": {},
   "outputs": [],
   "source": [
    "class basicnet(nn.Module):\n",
    "    def __init__(self, num_classes):\n",
    "        super(basicnet, self).__init__()\n",
    "        self.num_classes = num_classes\n",
    "        self.conv_block = nn.Sequential( \n",
    "            # Conv 1\n",
    "            nn.Conv2d(in_channels=3, out_channels=6, kernel_size=5, stride=1),\n",
    "            nn.BatchNorm2d(6),\n",
    "            nn.ReLU(),\n",
    "            nn.MaxPool2d(2),\n",
    "\n",
    "            # Conv 2\n",
    "            nn.Conv2d(in_channels=6, out_channels=16, kernel_size=5, stride=1),\n",
    "            nn.BatchNorm2d(16),\n",
    "            nn.ReLU(),\n",
    "            nn.MaxPool2d(2),\n",
    "\n",
    "            # Conv 3\n",
    "            nn.Conv2d(in_channels=16, out_channels=120, kernel_size=5, stride=1), \n",
    "            nn.BatchNorm2d(120),\n",
    "            nn.ReLU()\n",
    "        )\n",
    "\n",
    "        self.classifier = nn.Sequential(\n",
    "            nn.Linear(in_features=120*9*9, out_features=84),\n",
    "            nn.BatchNorm1d(84),\n",
    "            nn.ReLU(),\n",
    "            nn.Linear(in_features=84, out_features=self.num_classes)\n",
    "        )\n",
    "    \n",
    "    def forward(self, x):\n",
    "        x = self.conv_block(x) \n",
    "        x = torch.flatten(x, 1) \n",
    "        x = self.classifier(x)\n",
    "        probs = F.softmax(x, dim=1) \n",
    "        return x"
   ]
  },
  {
   "cell_type": "code",
   "execution_count": 46,
   "metadata": {},
   "outputs": [
    {
     "data": {
      "text/plain": [
       "basicnet(\n",
       "  (conv_block): Sequential(\n",
       "    (0): Conv2d(3, 6, kernel_size=(5, 5), stride=(1, 1))\n",
       "    (1): BatchNorm2d(6, eps=1e-05, momentum=0.1, affine=True, track_running_stats=True)\n",
       "    (2): ReLU()\n",
       "    (3): MaxPool2d(kernel_size=2, stride=2, padding=0, dilation=1, ceil_mode=False)\n",
       "    (4): Conv2d(6, 16, kernel_size=(5, 5), stride=(1, 1))\n",
       "    (5): BatchNorm2d(16, eps=1e-05, momentum=0.1, affine=True, track_running_stats=True)\n",
       "    (6): ReLU()\n",
       "    (7): MaxPool2d(kernel_size=2, stride=2, padding=0, dilation=1, ceil_mode=False)\n",
       "    (8): Conv2d(16, 120, kernel_size=(5, 5), stride=(1, 1))\n",
       "    (9): BatchNorm2d(120, eps=1e-05, momentum=0.1, affine=True, track_running_stats=True)\n",
       "    (10): ReLU()\n",
       "  )\n",
       "  (classifier): Sequential(\n",
       "    (0): Linear(in_features=9720, out_features=84, bias=True)\n",
       "    (1): BatchNorm1d(84, eps=1e-05, momentum=0.1, affine=True, track_running_stats=True)\n",
       "    (2): ReLU()\n",
       "    (3): Identity()\n",
       "  )\n",
       ")"
      ]
     },
     "execution_count": 46,
     "metadata": {},
     "output_type": "execute_result"
    }
   ],
   "source": []
  },
  {
   "cell_type": "code",
   "execution_count": 8,
   "metadata": {},
   "outputs": [
    {
     "name": "stdout",
     "output_type": "stream",
     "text": [
      "Creating Models\n"
     ]
    }
   ],
   "source": [
    "print('Creating Models')\n",
    "N_CLASSES = 4\n",
    "models = [\n",
    "    basicnet(num_classes=N_CLASSES).to(device),\n",
    "    alexnet(num_classes=N_CLASSES).to(device),\n",
    "    vgg16(num_classes=N_CLASSES).to(device),\n",
    "]\n",
    "\n"
   ]
  },
  {
   "cell_type": "code",
   "execution_count": 11,
   "metadata": {},
   "outputs": [],
   "source": [
    "from scipy.spatial.distance import cosine\n",
    "\n",
    "class Identity(nn.Module):\n",
    "    def __init__(self):\n",
    "        super(Identity, self).__init__()\n",
    "        \n",
    "    def forward(self, x):\n",
    "        return x\n",
    "\n",
    "def normalize(v):\n",
    "    # v : numpy vector\n",
    "    v = v - v.min()\n",
    "    v = v / v.max()\n",
    "    return v\n",
    "\n",
    "def get_sim_judgments(images1,images2, model, layer='fc'):\n",
    "    # images1 : list of N images (each image is a tensor)\n",
    "    # images2 : list of N images (each image is a tensor)\n",
    "    # layer : which layer do we want to use? fully connected ('fc'), \n",
    "    #         first convolutional ('conv1'), or second convolutional ('conv2')\n",
    "    #\n",
    "    # Return\n",
    "    #  v_sim : N-dimensional vector\n",
    "    # model.load_state_dict(torch.load(path_to_model))\n",
    "    model.eval()\n",
    "    N = images1.size()[0] # number of pairs\n",
    "    assert N == images2.size()[0]\n",
    "    \n",
    "    sim_model = model\n",
    "    sim_model.classifier[-1] = Identity()\n",
    "    output1 = sim_model(images1)\n",
    "    output2 = sim_model(images2)\n",
    "    \n",
    "    # flatten the tensors for each image\n",
    "    T1 = output1.detach().cpu().numpy().reshape(N,-1)\n",
    "    T2 = output2.detach().cpu().numpy().reshape(N,-1)\n",
    "\n",
    "    v_sim = np.zeros(N)\n",
    "    for i in range(N): # for each pair\n",
    "        v1 = T1[i,:]\n",
    "        v2 = T2[i,:]\n",
    "        v_sim[i] = 1-cosine(v1,v2) # using cosine distance \n",
    "    \n",
    "    return v_sim"
   ]
  },
  {
   "cell_type": "code",
   "execution_count": 12,
   "metadata": {},
   "outputs": [],
   "source": [
    "images1 = [test_pair[i][0] for i in range(48)]\n",
    "images2 = [test_pair[i][0] for i in range(48, 96)]\n",
    "\n",
    "images1 = torch.stack(images1).to(device)\n",
    "images2 = torch.stack(images2).to(device)"
   ]
  },
  {
   "cell_type": "code",
   "execution_count": 15,
   "metadata": {},
   "outputs": [],
   "source": [
    "similarities = {}\n",
    "for model in models:\n",
    "    name = model.__class__.__name__\n",
    "    PATH = f'models/{name}_Epoch_19.pth'\n",
    "    model.load_state_dict(torch.load(PATH))\n",
    "    \n",
    "    v_sim = get_sim_judgments(images1,images2, model)\n",
    "    similarities[name] = v_sim\n",
    "    "
   ]
  },
  {
   "cell_type": "code",
   "execution_count": 16,
   "metadata": {},
   "outputs": [
    {
     "data": {
      "text/plain": [
       "{'basicnet': array([0.48206171, 0.22900021, 0.4645668 , 0.35972422, 0.39978069,\n",
       "        0.29683444, 0.23210916, 0.19297822, 0.40994316, 0.39886206,\n",
       "        0.36178169, 0.18759254, 0.45108646, 0.43934473, 0.44323751,\n",
       "        0.35009369, 0.28371966, 0.48492792, 0.31685418, 0.26497537,\n",
       "        0.30428055, 0.22200972, 0.38067889, 0.36079231, 0.35910997,\n",
       "        0.31177607, 0.29719236, 0.36440292, 0.39507931, 0.29801145,\n",
       "        0.27067545, 0.51613718, 0.42760557, 0.25223073, 0.42457795,\n",
       "        0.32330889, 0.33633506, 0.2889328 , 0.52530569, 0.40526539,\n",
       "        0.45792976, 0.35980433, 0.3107636 , 0.3261047 , 0.21715833,\n",
       "        0.43942079, 0.51079035, 0.22541884]),\n",
       " 'AlexNet': array([0.30964464, 0.57882458, 0.92942244, 0.384408  , 0.98162663,\n",
       "        0.72963005, 0.27410355, 0.92770827, 0.52180278, 0.98374707,\n",
       "        0.81461567, 0.95230979, 0.86831832, 0.81764191, 0.86690551,\n",
       "        0.9202733 , 0.91651678, 0.8523829 , 0.76868892, 0.59525675,\n",
       "        0.81632406, 0.97727704, 0.92809635, 0.90557951, 0.59271252,\n",
       "        0.99266845, 0.99633211, 0.99713552, 0.98579228, 0.7071808 ,\n",
       "        0.86335647, 0.99668336, 0.36884466, 0.72329938, 0.64669281,\n",
       "        0.4552722 , 0.98065126, 0.97214198, 0.4963932 , 0.90478921,\n",
       "        0.98679554, 0.96361518, 0.99515617, 0.36362049, 0.94113612,\n",
       "        0.8898868 , 0.75796783, 0.49486765]),\n",
       " 'VGG': array([0.58377177, 0.93379599, 0.95079654, 0.5092628 , 0.88617605,\n",
       "        0.67170006, 0.39698103, 0.81537533, 0.46884057, 0.75776619,\n",
       "        0.7774902 , 0.79549193, 0.71641046, 0.52654564, 0.74271202,\n",
       "        0.72730172, 0.88972729, 0.72478515, 0.83105606, 0.52457714,\n",
       "        0.80480093, 0.87169987, 0.77705538, 0.76262003, 0.72500622,\n",
       "        0.90480965, 0.89436346, 0.89569402, 0.82146269, 0.52135718,\n",
       "        0.76449454, 0.97433418, 0.5323807 , 0.74939561, 0.78732264,\n",
       "        0.6629203 , 0.75591046, 0.7810064 , 0.70831889, 0.7392813 ,\n",
       "        0.89939481, 0.93026006, 0.78309143, 0.47667691, 0.74162579,\n",
       "        0.89687443, 0.89678746, 0.62810838])}"
      ]
     },
     "execution_count": 16,
     "metadata": {},
     "output_type": "execute_result"
    }
   ],
   "source": [
    "similarities"
   ]
  },
  {
   "cell_type": "code",
   "execution_count": 11,
   "metadata": {
    "collapsed": true
   },
   "outputs": [
    {
     "name": "stdout",
     "output_type": "stream",
     "text": [
      "Model: basicnet\n",
      "Training on 20 epochs\n"
     ]
    },
    {
     "data": {
      "application/vnd.jupyter.widget-view+json": {
       "model_id": "9adf714800a04dff9ec269e3bd5ffa30",
       "version_major": 2,
       "version_minor": 0
      },
      "text/plain": [
       "  0%|          | 0/20 [00:00<?, ?it/s]"
      ]
     },
     "metadata": {},
     "output_type": "display_data"
    },
    {
     "data": {
      "application/vnd.jupyter.widget-view+json": {
       "model_id": "",
       "version_major": 2,
       "version_minor": 0
      },
      "text/plain": [
       "  0%|          | 0/94 [00:00<?, ?it/s]"
      ]
     },
     "metadata": {},
     "output_type": "display_data"
    },
    {
     "data": {
      "application/vnd.jupyter.widget-view+json": {
       "model_id": "",
       "version_major": 2,
       "version_minor": 0
      },
      "text/plain": [
       "  0%|          | 0/94 [00:00<?, ?it/s]"
      ]
     },
     "metadata": {},
     "output_type": "display_data"
    },
    {
     "data": {
      "application/vnd.jupyter.widget-view+json": {
       "model_id": "",
       "version_major": 2,
       "version_minor": 0
      },
      "text/plain": [
       "  0%|          | 0/94 [00:00<?, ?it/s]"
      ]
     },
     "metadata": {},
     "output_type": "display_data"
    },
    {
     "data": {
      "application/vnd.jupyter.widget-view+json": {
       "model_id": "",
       "version_major": 2,
       "version_minor": 0
      },
      "text/plain": [
       "  0%|          | 0/94 [00:00<?, ?it/s]"
      ]
     },
     "metadata": {},
     "output_type": "display_data"
    },
    {
     "data": {
      "application/vnd.jupyter.widget-view+json": {
       "model_id": "",
       "version_major": 2,
       "version_minor": 0
      },
      "text/plain": [
       "  0%|          | 0/94 [00:00<?, ?it/s]"
      ]
     },
     "metadata": {},
     "output_type": "display_data"
    },
    {
     "data": {
      "application/vnd.jupyter.widget-view+json": {
       "model_id": "",
       "version_major": 2,
       "version_minor": 0
      },
      "text/plain": [
       "  0%|          | 0/94 [00:00<?, ?it/s]"
      ]
     },
     "metadata": {},
     "output_type": "display_data"
    },
    {
     "data": {
      "application/vnd.jupyter.widget-view+json": {
       "model_id": "",
       "version_major": 2,
       "version_minor": 0
      },
      "text/plain": [
       "  0%|          | 0/94 [00:00<?, ?it/s]"
      ]
     },
     "metadata": {},
     "output_type": "display_data"
    },
    {
     "data": {
      "application/vnd.jupyter.widget-view+json": {
       "model_id": "",
       "version_major": 2,
       "version_minor": 0
      },
      "text/plain": [
       "  0%|          | 0/94 [00:00<?, ?it/s]"
      ]
     },
     "metadata": {},
     "output_type": "display_data"
    },
    {
     "data": {
      "application/vnd.jupyter.widget-view+json": {
       "model_id": "",
       "version_major": 2,
       "version_minor": 0
      },
      "text/plain": [
       "  0%|          | 0/94 [00:00<?, ?it/s]"
      ]
     },
     "metadata": {},
     "output_type": "display_data"
    },
    {
     "data": {
      "application/vnd.jupyter.widget-view+json": {
       "model_id": "",
       "version_major": 2,
       "version_minor": 0
      },
      "text/plain": [
       "  0%|          | 0/94 [00:00<?, ?it/s]"
      ]
     },
     "metadata": {},
     "output_type": "display_data"
    },
    {
     "data": {
      "application/vnd.jupyter.widget-view+json": {
       "model_id": "",
       "version_major": 2,
       "version_minor": 0
      },
      "text/plain": [
       "  0%|          | 0/94 [00:00<?, ?it/s]"
      ]
     },
     "metadata": {},
     "output_type": "display_data"
    },
    {
     "data": {
      "application/vnd.jupyter.widget-view+json": {
       "model_id": "",
       "version_major": 2,
       "version_minor": 0
      },
      "text/plain": [
       "  0%|          | 0/94 [00:00<?, ?it/s]"
      ]
     },
     "metadata": {},
     "output_type": "display_data"
    },
    {
     "data": {
      "application/vnd.jupyter.widget-view+json": {
       "model_id": "",
       "version_major": 2,
       "version_minor": 0
      },
      "text/plain": [
       "  0%|          | 0/94 [00:00<?, ?it/s]"
      ]
     },
     "metadata": {},
     "output_type": "display_data"
    },
    {
     "data": {
      "application/vnd.jupyter.widget-view+json": {
       "model_id": "",
       "version_major": 2,
       "version_minor": 0
      },
      "text/plain": [
       "  0%|          | 0/94 [00:00<?, ?it/s]"
      ]
     },
     "metadata": {},
     "output_type": "display_data"
    },
    {
     "data": {
      "application/vnd.jupyter.widget-view+json": {
       "model_id": "",
       "version_major": 2,
       "version_minor": 0
      },
      "text/plain": [
       "  0%|          | 0/94 [00:00<?, ?it/s]"
      ]
     },
     "metadata": {},
     "output_type": "display_data"
    },
    {
     "data": {
      "application/vnd.jupyter.widget-view+json": {
       "model_id": "",
       "version_major": 2,
       "version_minor": 0
      },
      "text/plain": [
       "  0%|          | 0/94 [00:00<?, ?it/s]"
      ]
     },
     "metadata": {},
     "output_type": "display_data"
    },
    {
     "data": {
      "application/vnd.jupyter.widget-view+json": {
       "model_id": "",
       "version_major": 2,
       "version_minor": 0
      },
      "text/plain": [
       "  0%|          | 0/94 [00:00<?, ?it/s]"
      ]
     },
     "metadata": {},
     "output_type": "display_data"
    },
    {
     "data": {
      "application/vnd.jupyter.widget-view+json": {
       "model_id": "",
       "version_major": 2,
       "version_minor": 0
      },
      "text/plain": [
       "  0%|          | 0/94 [00:00<?, ?it/s]"
      ]
     },
     "metadata": {},
     "output_type": "display_data"
    },
    {
     "data": {
      "application/vnd.jupyter.widget-view+json": {
       "model_id": "",
       "version_major": 2,
       "version_minor": 0
      },
      "text/plain": [
       "  0%|          | 0/94 [00:00<?, ?it/s]"
      ]
     },
     "metadata": {},
     "output_type": "display_data"
    },
    {
     "data": {
      "application/vnd.jupyter.widget-view+json": {
       "model_id": "",
       "version_major": 2,
       "version_minor": 0
      },
      "text/plain": [
       "  0%|          | 0/94 [00:00<?, ?it/s]"
      ]
     },
     "metadata": {},
     "output_type": "display_data"
    },
    {
     "name": "stdout",
     "output_type": "stream",
     "text": [
      "Saving basicnet to file\n",
      "Model: AlexNet\n",
      "Training on 20 epochs\n"
     ]
    },
    {
     "data": {
      "application/vnd.jupyter.widget-view+json": {
       "model_id": "ffcd93774fdf4e5082a6a393eb35a4fa",
       "version_major": 2,
       "version_minor": 0
      },
      "text/plain": [
       "  0%|          | 0/20 [00:00<?, ?it/s]"
      ]
     },
     "metadata": {},
     "output_type": "display_data"
    },
    {
     "data": {
      "application/vnd.jupyter.widget-view+json": {
       "model_id": "",
       "version_major": 2,
       "version_minor": 0
      },
      "text/plain": [
       "  0%|          | 0/94 [00:00<?, ?it/s]"
      ]
     },
     "metadata": {},
     "output_type": "display_data"
    },
    {
     "data": {
      "application/vnd.jupyter.widget-view+json": {
       "model_id": "",
       "version_major": 2,
       "version_minor": 0
      },
      "text/plain": [
       "  0%|          | 0/94 [00:00<?, ?it/s]"
      ]
     },
     "metadata": {},
     "output_type": "display_data"
    },
    {
     "data": {
      "application/vnd.jupyter.widget-view+json": {
       "model_id": "",
       "version_major": 2,
       "version_minor": 0
      },
      "text/plain": [
       "  0%|          | 0/94 [00:00<?, ?it/s]"
      ]
     },
     "metadata": {},
     "output_type": "display_data"
    },
    {
     "data": {
      "application/vnd.jupyter.widget-view+json": {
       "model_id": "",
       "version_major": 2,
       "version_minor": 0
      },
      "text/plain": [
       "  0%|          | 0/94 [00:00<?, ?it/s]"
      ]
     },
     "metadata": {},
     "output_type": "display_data"
    },
    {
     "data": {
      "application/vnd.jupyter.widget-view+json": {
       "model_id": "",
       "version_major": 2,
       "version_minor": 0
      },
      "text/plain": [
       "  0%|          | 0/94 [00:00<?, ?it/s]"
      ]
     },
     "metadata": {},
     "output_type": "display_data"
    },
    {
     "data": {
      "application/vnd.jupyter.widget-view+json": {
       "model_id": "",
       "version_major": 2,
       "version_minor": 0
      },
      "text/plain": [
       "  0%|          | 0/94 [00:00<?, ?it/s]"
      ]
     },
     "metadata": {},
     "output_type": "display_data"
    },
    {
     "data": {
      "application/vnd.jupyter.widget-view+json": {
       "model_id": "",
       "version_major": 2,
       "version_minor": 0
      },
      "text/plain": [
       "  0%|          | 0/94 [00:00<?, ?it/s]"
      ]
     },
     "metadata": {},
     "output_type": "display_data"
    },
    {
     "data": {
      "application/vnd.jupyter.widget-view+json": {
       "model_id": "",
       "version_major": 2,
       "version_minor": 0
      },
      "text/plain": [
       "  0%|          | 0/94 [00:00<?, ?it/s]"
      ]
     },
     "metadata": {},
     "output_type": "display_data"
    },
    {
     "data": {
      "application/vnd.jupyter.widget-view+json": {
       "model_id": "",
       "version_major": 2,
       "version_minor": 0
      },
      "text/plain": [
       "  0%|          | 0/94 [00:00<?, ?it/s]"
      ]
     },
     "metadata": {},
     "output_type": "display_data"
    },
    {
     "data": {
      "application/vnd.jupyter.widget-view+json": {
       "model_id": "",
       "version_major": 2,
       "version_minor": 0
      },
      "text/plain": [
       "  0%|          | 0/94 [00:00<?, ?it/s]"
      ]
     },
     "metadata": {},
     "output_type": "display_data"
    },
    {
     "data": {
      "application/vnd.jupyter.widget-view+json": {
       "model_id": "",
       "version_major": 2,
       "version_minor": 0
      },
      "text/plain": [
       "  0%|          | 0/94 [00:00<?, ?it/s]"
      ]
     },
     "metadata": {},
     "output_type": "display_data"
    },
    {
     "data": {
      "application/vnd.jupyter.widget-view+json": {
       "model_id": "",
       "version_major": 2,
       "version_minor": 0
      },
      "text/plain": [
       "  0%|          | 0/94 [00:00<?, ?it/s]"
      ]
     },
     "metadata": {},
     "output_type": "display_data"
    },
    {
     "data": {
      "application/vnd.jupyter.widget-view+json": {
       "model_id": "",
       "version_major": 2,
       "version_minor": 0
      },
      "text/plain": [
       "  0%|          | 0/94 [00:00<?, ?it/s]"
      ]
     },
     "metadata": {},
     "output_type": "display_data"
    },
    {
     "data": {
      "application/vnd.jupyter.widget-view+json": {
       "model_id": "",
       "version_major": 2,
       "version_minor": 0
      },
      "text/plain": [
       "  0%|          | 0/94 [00:00<?, ?it/s]"
      ]
     },
     "metadata": {},
     "output_type": "display_data"
    },
    {
     "data": {
      "application/vnd.jupyter.widget-view+json": {
       "model_id": "",
       "version_major": 2,
       "version_minor": 0
      },
      "text/plain": [
       "  0%|          | 0/94 [00:00<?, ?it/s]"
      ]
     },
     "metadata": {},
     "output_type": "display_data"
    },
    {
     "data": {
      "application/vnd.jupyter.widget-view+json": {
       "model_id": "",
       "version_major": 2,
       "version_minor": 0
      },
      "text/plain": [
       "  0%|          | 0/94 [00:00<?, ?it/s]"
      ]
     },
     "metadata": {},
     "output_type": "display_data"
    },
    {
     "data": {
      "application/vnd.jupyter.widget-view+json": {
       "model_id": "",
       "version_major": 2,
       "version_minor": 0
      },
      "text/plain": [
       "  0%|          | 0/94 [00:00<?, ?it/s]"
      ]
     },
     "metadata": {},
     "output_type": "display_data"
    },
    {
     "data": {
      "application/vnd.jupyter.widget-view+json": {
       "model_id": "",
       "version_major": 2,
       "version_minor": 0
      },
      "text/plain": [
       "  0%|          | 0/94 [00:00<?, ?it/s]"
      ]
     },
     "metadata": {},
     "output_type": "display_data"
    },
    {
     "data": {
      "application/vnd.jupyter.widget-view+json": {
       "model_id": "",
       "version_major": 2,
       "version_minor": 0
      },
      "text/plain": [
       "  0%|          | 0/94 [00:00<?, ?it/s]"
      ]
     },
     "metadata": {},
     "output_type": "display_data"
    },
    {
     "data": {
      "application/vnd.jupyter.widget-view+json": {
       "model_id": "",
       "version_major": 2,
       "version_minor": 0
      },
      "text/plain": [
       "  0%|          | 0/94 [00:00<?, ?it/s]"
      ]
     },
     "metadata": {},
     "output_type": "display_data"
    },
    {
     "name": "stdout",
     "output_type": "stream",
     "text": [
      "Saving AlexNet to file\n",
      "Model: VGG\n",
      "Training on 20 epochs\n"
     ]
    },
    {
     "data": {
      "application/vnd.jupyter.widget-view+json": {
       "model_id": "f706a3b913814c62aed3a635953e3d47",
       "version_major": 2,
       "version_minor": 0
      },
      "text/plain": [
       "  0%|          | 0/20 [00:00<?, ?it/s]"
      ]
     },
     "metadata": {},
     "output_type": "display_data"
    },
    {
     "data": {
      "application/vnd.jupyter.widget-view+json": {
       "model_id": "",
       "version_major": 2,
       "version_minor": 0
      },
      "text/plain": [
       "  0%|          | 0/94 [00:00<?, ?it/s]"
      ]
     },
     "metadata": {},
     "output_type": "display_data"
    },
    {
     "data": {
      "application/vnd.jupyter.widget-view+json": {
       "model_id": "",
       "version_major": 2,
       "version_minor": 0
      },
      "text/plain": [
       "  0%|          | 0/94 [00:00<?, ?it/s]"
      ]
     },
     "metadata": {},
     "output_type": "display_data"
    },
    {
     "data": {
      "application/vnd.jupyter.widget-view+json": {
       "model_id": "",
       "version_major": 2,
       "version_minor": 0
      },
      "text/plain": [
       "  0%|          | 0/94 [00:00<?, ?it/s]"
      ]
     },
     "metadata": {},
     "output_type": "display_data"
    },
    {
     "data": {
      "application/vnd.jupyter.widget-view+json": {
       "model_id": "",
       "version_major": 2,
       "version_minor": 0
      },
      "text/plain": [
       "  0%|          | 0/94 [00:00<?, ?it/s]"
      ]
     },
     "metadata": {},
     "output_type": "display_data"
    },
    {
     "data": {
      "application/vnd.jupyter.widget-view+json": {
       "model_id": "",
       "version_major": 2,
       "version_minor": 0
      },
      "text/plain": [
       "  0%|          | 0/94 [00:00<?, ?it/s]"
      ]
     },
     "metadata": {},
     "output_type": "display_data"
    },
    {
     "data": {
      "application/vnd.jupyter.widget-view+json": {
       "model_id": "",
       "version_major": 2,
       "version_minor": 0
      },
      "text/plain": [
       "  0%|          | 0/94 [00:00<?, ?it/s]"
      ]
     },
     "metadata": {},
     "output_type": "display_data"
    },
    {
     "data": {
      "application/vnd.jupyter.widget-view+json": {
       "model_id": "",
       "version_major": 2,
       "version_minor": 0
      },
      "text/plain": [
       "  0%|          | 0/94 [00:00<?, ?it/s]"
      ]
     },
     "metadata": {},
     "output_type": "display_data"
    },
    {
     "data": {
      "application/vnd.jupyter.widget-view+json": {
       "model_id": "",
       "version_major": 2,
       "version_minor": 0
      },
      "text/plain": [
       "  0%|          | 0/94 [00:00<?, ?it/s]"
      ]
     },
     "metadata": {},
     "output_type": "display_data"
    },
    {
     "data": {
      "application/vnd.jupyter.widget-view+json": {
       "model_id": "",
       "version_major": 2,
       "version_minor": 0
      },
      "text/plain": [
       "  0%|          | 0/94 [00:00<?, ?it/s]"
      ]
     },
     "metadata": {},
     "output_type": "display_data"
    },
    {
     "data": {
      "application/vnd.jupyter.widget-view+json": {
       "model_id": "",
       "version_major": 2,
       "version_minor": 0
      },
      "text/plain": [
       "  0%|          | 0/94 [00:00<?, ?it/s]"
      ]
     },
     "metadata": {},
     "output_type": "display_data"
    },
    {
     "data": {
      "application/vnd.jupyter.widget-view+json": {
       "model_id": "",
       "version_major": 2,
       "version_minor": 0
      },
      "text/plain": [
       "  0%|          | 0/94 [00:00<?, ?it/s]"
      ]
     },
     "metadata": {},
     "output_type": "display_data"
    },
    {
     "data": {
      "application/vnd.jupyter.widget-view+json": {
       "model_id": "",
       "version_major": 2,
       "version_minor": 0
      },
      "text/plain": [
       "  0%|          | 0/94 [00:00<?, ?it/s]"
      ]
     },
     "metadata": {},
     "output_type": "display_data"
    },
    {
     "data": {
      "application/vnd.jupyter.widget-view+json": {
       "model_id": "",
       "version_major": 2,
       "version_minor": 0
      },
      "text/plain": [
       "  0%|          | 0/94 [00:00<?, ?it/s]"
      ]
     },
     "metadata": {},
     "output_type": "display_data"
    },
    {
     "data": {
      "application/vnd.jupyter.widget-view+json": {
       "model_id": "",
       "version_major": 2,
       "version_minor": 0
      },
      "text/plain": [
       "  0%|          | 0/94 [00:00<?, ?it/s]"
      ]
     },
     "metadata": {},
     "output_type": "display_data"
    },
    {
     "data": {
      "application/vnd.jupyter.widget-view+json": {
       "model_id": "",
       "version_major": 2,
       "version_minor": 0
      },
      "text/plain": [
       "  0%|          | 0/94 [00:00<?, ?it/s]"
      ]
     },
     "metadata": {},
     "output_type": "display_data"
    },
    {
     "data": {
      "application/vnd.jupyter.widget-view+json": {
       "model_id": "",
       "version_major": 2,
       "version_minor": 0
      },
      "text/plain": [
       "  0%|          | 0/94 [00:00<?, ?it/s]"
      ]
     },
     "metadata": {},
     "output_type": "display_data"
    },
    {
     "data": {
      "application/vnd.jupyter.widget-view+json": {
       "model_id": "",
       "version_major": 2,
       "version_minor": 0
      },
      "text/plain": [
       "  0%|          | 0/94 [00:00<?, ?it/s]"
      ]
     },
     "metadata": {},
     "output_type": "display_data"
    },
    {
     "data": {
      "application/vnd.jupyter.widget-view+json": {
       "model_id": "",
       "version_major": 2,
       "version_minor": 0
      },
      "text/plain": [
       "  0%|          | 0/94 [00:00<?, ?it/s]"
      ]
     },
     "metadata": {},
     "output_type": "display_data"
    },
    {
     "data": {
      "application/vnd.jupyter.widget-view+json": {
       "model_id": "",
       "version_major": 2,
       "version_minor": 0
      },
      "text/plain": [
       "  0%|          | 0/94 [00:00<?, ?it/s]"
      ]
     },
     "metadata": {},
     "output_type": "display_data"
    },
    {
     "data": {
      "application/vnd.jupyter.widget-view+json": {
       "model_id": "",
       "version_major": 2,
       "version_minor": 0
      },
      "text/plain": [
       "  0%|          | 0/94 [00:00<?, ?it/s]"
      ]
     },
     "metadata": {},
     "output_type": "display_data"
    },
    {
     "name": "stdout",
     "output_type": "stream",
     "text": [
      "Saving VGG to file\n"
     ]
    }
   ],
   "source": [
    "model_dict_style = {}\n",
    "similarities = {}\n",
    "\n",
    "for model in models:\n",
    "    name = model.__class__.__name__\n",
    "\n",
    "    print(f'Model: {name}')\n",
    "    model_params['criterion'] = nn.CrossEntropyLoss()\n",
    "    model_params['optimizer'] = optim.SGD(model.parameters(), lr=0.01)\n",
    "    epochs = model_params['EPOCHS']\n",
    "    print(f'Training on {epochs} epochs')\n",
    "    train_losses, val_losses = run_simulations(train_dataloader,\n",
    "                                            val_dataloader,\n",
    "                                            model,                                           \n",
    "                                            model_params)\n",
    "\n",
    "    _, test_accuracy_style = test(style_dataloader, model, model_params)\n",
    "    \n",
    "    v_sim = get_sim_judgments(images1, images2, model)\n",
    "    \n",
    "    \n",
    "    print(f'Saving {name} to file')\n",
    "    model_dict_style[name] = [train_losses, val_losses, test_accuracy_style]\n",
    "    similarities[name] = v_sim\n",
    "    \n",
    "    with open(f'model_dict_style.pkl', 'wb') as f:\n",
    "        pickle.dump(model_dict_style, f)\n",
    "\n",
    "    with open('similarities.pkl', 'wb') as f:\n",
    "        pickle.dump(similarities, f)\n",
    "    "
   ]
  },
  {
   "cell_type": "code",
   "execution_count": 41,
   "metadata": {},
   "outputs": [
    {
     "data": {
      "text/plain": [
       "Text(0.09, 0.5, 'human similarity (normalized)')"
      ]
     },
     "execution_count": 41,
     "metadata": {},
     "output_type": "execute_result"
    },
    {
     "data": {
      "image/png": "[encoded data removed]",
      "text/plain": [
       "<Figure size 1368x360 with 3 Axes>"
      ]
     },
     "metadata": {
      "needs_background": "light"
     },
     "output_type": "display_data"
    }
   ],
   "source": [
    "human_sim = [3.92, 3.38, 3.46, 3.46, 3.50, 1.50, 1.50, 4.00, 2.04, 1.96, 2.31, 3.00, 2.46, 4.15, \n",
    " 2.73, 4.15, 4.50, 4.42, 4.46, 5.88, 4.35, 3.00, 4.31, 2.12, 1.92, 3.73, 5.00, 4.73, \n",
    " 4.85, 3.31, 2.77, 5.04, 3.77, 3.46, 3.04, 2.35, 3.92, 3.92, 3.73, 1.12, 2.46, 3.23, \n",
    " 1.46, 1.12, 1.88, 3.42, 4.58, 1.85]\n",
    "\n",
    "fig, ax = plt.subplots(1, 3, figsize=(19,5))\n",
    "for i, model in enumerate(models):\n",
    "    name = model.__class__.__name__\n",
    "    v_sim_net_norm = normalize(similarities[name])\n",
    "    v_sim_human_norm = normalize(np.array(human_sim))\n",
    "\n",
    "    r = np.corrcoef(v_sim_net_norm,v_sim_human_norm)[0][1]\n",
    "\n",
    "    # Scatter plot\n",
    "    ax[i].set_title(f'{name} - r={round(r,3)}', fontsize=16)\n",
    "    ax[i].scatter(v_sim_net_norm,v_sim_human_norm)\n",
    "\n",
    "fig.text(0.5, 0.02, 'network similarity (normalized)', ha='center', fontsize=12)\n",
    "fig.text(0.09, 0.5, 'human similarity (normalized)', va='center', rotation='vertical', fontsize=12)"
   ]
  },
  {
   "cell_type": "code",
   "execution_count": 38,
   "metadata": {},
   "outputs": [],
   "source": [
    "with open(f'model_dict_style.pkl', 'rb') as f:\n",
    "    model_dict_style = pickle.load(f)"
   ]
  },
  {
   "cell_type": "code",
   "execution_count": 44,
   "metadata": {},
   "outputs": [
    {
     "data": {
      "text/plain": [
       "Text(0.09, 0.5, 'Loss')"
      ]
     },
     "execution_count": 44,
     "metadata": {},
     "output_type": "execute_result"
    },
    {
     "data": {
      "image/png": "[encoded data removed]",
      "text/plain": [
       "<Figure size 864x360 with 2 Axes>"
      ]
     },
     "metadata": {
      "needs_background": "light"
     },
     "output_type": "display_data"
    }
   ],
   "source": [
    "fig, ax = plt.subplots(1, 2, figsize=(12,5))\n",
    "\n",
    "for i, (k, v) in enumerate(model_dict_style.items()):\n",
    "    train_losses, val_losses, test_accuracy = v\n",
    "    \n",
    "    ax[0].plot(range(20), train_losses, label=k)\n",
    "    ax[1].plot(range(20), val_losses, label=k)\n",
    "    \n",
    "    ax[0].set_title(f'Train Losses', fontsize=16)\n",
    "    ax[1].set_title(f'Validation Losses', fontsize=16)\n",
    "    \n",
    "    ax[0].legend()\n",
    "    ax[1].legend()\n",
    "    \n",
    "fig.text(0.5, 0.02, 'Num Epochs', ha='center', fontsize=12)\n",
    "fig.text(0.09, 0.5, 'Loss', va='center', rotation='vertical', fontsize=12)"
   ]
  },
  {
   "cell_type": "code",
   "execution_count": 45,
   "metadata": {},
   "outputs": [
    {
     "name": "stdout",
     "output_type": "stream",
     "text": [
      "Test Accuracy for basicnet: 0.3958333333333333\n",
      "Test Accuracy for AlexNet: 0.4166666666666667\n",
      "Test Accuracy for VGG: 0.4895833333333333\n"
     ]
    }
   ],
   "source": [
    "for k, v in model_dict_style.items():\n",
    "    print(f'Test Accuracy for {k}: {v[2]}')"
   ]
  }
 ],
 "metadata": {
  "kernelspec": {
   "display_name": "Python 3 (ipykernel)",
   "language": "python",
   "name": "python3"
  },
  "language_info": {
   "codemirror_mode": {
    "name": "ipython",
    "version": 3
   },
   "file_extension": ".py",
   "mimetype": "text/x-python",
   "name": "python",
   "nbconvert_exporter": "python",
   "pygments_lexer": "ipython3",
   "version": "3.9.7"
  }
 },
 "nbformat": 4,
 "nbformat_minor": 2
}
